{
 "cells": [
  {
   "cell_type": "code",
   "execution_count": null,
   "metadata": {},
   "outputs": [],
   "source": [
    "!pip install nibabel\n",
    "!pip install imageio==2.27.0\n",
    "! pip install kaggle\n",
    "!pip install nilearn\n",
    "!pip install numpy==1.23.5\n",
    "!pip install tqdm\n",
    "!pip install split-folders"
   ]
  },
  {
   "cell_type": "code",
   "execution_count": null,
   "metadata": {},
   "outputs": [],
   "source": [
    "! kaggle datasets download awsaf49/brats20-dataset-training-validation\n"
   ]
  },
  {
   "cell_type": "code",
   "execution_count": null,
   "metadata": {},
   "outputs": [],
   "source": [
    "import zipfile\n",
    "\n",
    "# Replace 'yourfile.zip' with the path to your zip file\n",
    "with zipfile.ZipFile('brats20-dataset-training-validation.zip', 'r') as zip_ref:\n",
    "    zip_ref.extractall('/workspace')  # Specify the folder to extract to"
   ]
  },
  {
   "cell_type": "code",
   "execution_count": null,
   "metadata": {},
   "outputs": [],
   "source": [
    "import nibabel as nib\n",
    "import matplotlib.pyplot as plt\n",
    "import numpy as np\n",
    "import nibabel as nib\n",
    "import glob\n",
    "from tensorflow.keras.utils import to_categorical\n",
    "import matplotlib.pyplot as plt\n",
    "from tifffile import imsave\n",
    "\n",
    "from sklearn.preprocessing import MinMaxScaler\n",
    "scaler = MinMaxScaler()\n"
   ]
  },
  {
   "cell_type": "code",
   "execution_count": null,
   "metadata": {},
   "outputs": [],
   "source": [
    "# Path to your NIfTI file\n",
    "# file_path = 'BraTS2020_TrainingData\\MICCAI_BraTS2020_TrainingData\\BraTS20_Training_001\\BraTS20_Training_001_flair.nii'\n",
    "file_path = '/workspace/BraTS2020_TrainingData/MICCAI_BraTS2020_TrainingData/BraTS20_Training_001/BraTS20_Training_001_flair.nii'\n",
    "# Load the NIfTI file\n",
    "img = nib.load(file_path)\n",
    "\n",
    "# Get the image data (in NumPy array form)\n",
    "img_data = img.get_fdata()"
   ]
  },
  {
   "cell_type": "code",
   "execution_count": null,
   "metadata": {},
   "outputs": [],
   "source": [
    "# Check the shape of the data (this should give you an idea of the dimensions)\n",
    "print(\"Image shape:\", img_data.shape)\n",
    "\n",
    "TRAIN_DATASET_PATH = r'/workspace/BraTS2020_TrainingData/MICCAI_BraTS2020_TrainingData'\n",
    "\n",
    "test_image_flair=nib.load(TRAIN_DATASET_PATH + '/BraTS20_Training_355/BraTS20_Training_355_flair.nii').get_fdata() # Added a forward slash / to the path\n",
    "print(test_image_flair.max())\n"
   ]
  },
  {
   "cell_type": "code",
   "execution_count": null,
   "metadata": {},
   "outputs": [],
   "source": [
    "\n",
    "import os \n",
    "old_name = TRAIN_DATASET_PATH + \"/BraTS20_Training_355/W39_1998.09.19_Segm.nii\"\n",
    "print(old_name)\n",
    "new_name = TRAIN_DATASET_PATH + \"/BraTS20_Training_355/BraTS20_Training_355_seg.nii\"\n",
    "\n",
    "# renaming the file\n",
    "try:\n",
    "    os.rename(old_name, new_name)\n",
    "    print(\"File has been re-named successfully!\")\n",
    "except Exception as e:\n",
    "    print(f\"File is already renamed! {e}\")"
   ]
  },
  {
   "cell_type": "code",
   "execution_count": null,
   "metadata": {},
   "outputs": [],
   "source": [
    "test_image_flair=scaler.fit_transform(test_image_flair.reshape(-1, test_image_flair.shape[-1])).reshape(test_image_flair.shape)\n",
    "test_image_t1=nib.load(TRAIN_DATASET_PATH + '/BraTS20_Training_355/BraTS20_Training_355_t1.nii').get_fdata()\n",
    "test_image_t1=scaler.fit_transform(test_image_t1.reshape(-1, test_image_t1.shape[-1])).reshape(test_image_t1.shape)\n",
    "\n",
    "test_image_t1ce=nib.load(TRAIN_DATASET_PATH + '/BraTS20_Training_355/BraTS20_Training_355_t1ce.nii').get_fdata()\n",
    "test_image_t1ce=scaler.fit_transform(test_image_t1ce.reshape(-1, test_image_t1ce.shape[-1])).reshape(test_image_t1ce.shape)\n",
    "\n",
    "test_image_t2=nib.load(TRAIN_DATASET_PATH + '/BraTS20_Training_355/BraTS20_Training_355_t2.nii').get_fdata()\n",
    "test_image_t2=scaler.fit_transform(test_image_t2.reshape(-1, test_image_t2.shape[-1])).reshape(test_image_t2.shape)\n",
    "\n",
    "\n",
    "\n",
    "test_mask=nib.load(TRAIN_DATASET_PATH + '/BraTS20_Training_355/BraTS20_Training_355_seg.nii').get_fdata()\n",
    "test_mask=test_mask.astype(np.uint8)"
   ]
  },
  {
   "cell_type": "code",
   "execution_count": null,
   "metadata": {},
   "outputs": [],
   "source": [
    "print(np.unique(test_mask))  #0, 1, 2, 4 (Need to reencode to 0, 1, 2, 3)\n",
    "test_mask[test_mask==4] = 3  #Reassign mask values 4 to 3\n",
    "print(np.unique(test_mask))\n",
    "\n",
    "t2_list = sorted(glob.glob(r'BraTS2020_TrainingData/MICCAI_BraTS2020_TrainingData/*/*t2.nii'))\n",
    "t1ce_list = sorted(glob.glob(r'BraTS2020_TrainingData/MICCAI_BraTS2020_TrainingData/*/*t1ce.nii'))\n",
    "flair_list = sorted(glob.glob(r'BraTS2020_TrainingData/MICCAI_BraTS2020_TrainingData/*/*flair.nii'))\n",
    "mask_list = sorted(glob.glob(r'BraTS2020_TrainingData/MICCAI_BraTS2020_TrainingData/*/*seg.nii'))\n"
   ]
  },
  {
   "cell_type": "code",
   "execution_count": null,
   "metadata": {},
   "outputs": [],
   "source": [
    "import nibabel as nib\n",
    "import glob\n",
    "from tensorflow.keras.utils import to_categorical\n",
    "import matplotlib.pyplot as plt\n",
    "from tifffile import imsave\n"
   ]
  },
  {
   "cell_type": "code",
   "execution_count": null,
   "metadata": {},
   "outputs": [],
   "source": [
    "import os \n",
    "from tqdm import tqdm \n",
    "for img in tqdm(range(len(t2_list))): \n",
    "\tprint(\"Now preparing image and masks number: \", img)\n",
    "\n",
    "\ttemp_image_t2 = nib.load(t2_list[img]).get_fdata()\n",
    "\ttemp_image_t2 = scaler.fit_transform(temp_image_t2.reshape(-1, temp_image_t2.shape[-1])).reshape(temp_image_t2.shape)\n",
    "\n",
    "\ttemp_image_t1ce = nib.load(t1ce_list[img]).get_fdata()\n",
    "\ttemp_image_t1ce = scaler.fit_transform(temp_image_t1ce.reshape(-1, temp_image_t1ce.shape[-1])).reshape(temp_image_t1ce.shape)\n",
    "\n",
    "\ttemp_image_flair = nib.load(flair_list[img]).get_fdata()\n",
    "\ttemp_image_flair = scaler.fit_transform(temp_image_flair.reshape(-1, temp_image_flair.shape[-1])).reshape(temp_image_flair.shape)\n",
    "\n",
    "\ttemp_mask = nib.load(mask_list[img]).get_fdata()\n",
    "\ttemp_mask = temp_mask.astype(np.uint8)\n",
    "\ttemp_mask[temp_mask == 4] = 3  # Reassign mask values 4 to 3\n",
    "\n",
    "\ttemp_combined_images = np.stack([temp_image_flair, temp_image_t1ce, temp_image_t2], axis=3)\n",
    "\n",
    "\t# Crop to a size to be divisible by 64 so we can later extract 64x64x64 patches.\n",
    "\t# cropping x, y, and z\n",
    "\ttemp_combined_images = temp_combined_images[56:184, 56:184, 13:141]\n",
    "\ttemp_mask = temp_mask[56:184, 56:184, 13:141]\n",
    "\n",
    "\tval, counts = np.unique(temp_mask, return_counts=True)\n",
    "\n",
    "\tif (1 - (counts[0] / counts.sum())) > 0.01:  # At least 1% useful volume with labels that are not 0\n",
    "\t\tprint(\"Savee\")\n",
    "\t\ttemp_mask = to_categorical(temp_mask, num_classes=4)\n",
    "\t\t\n",
    "\t\t# Create the necessary directories if they don't exist\n",
    "\t\tos.makedirs(r'BraTS2020_TrainingData/input_data_3channels/images', exist_ok=True)  \n",
    "\t\tos.makedirs(r'BraTS2020_TrainingData/input_data_3channels/masks', exist_ok=True)\n",
    "\t\t\n",
    "\t\tnp.save(r'BraTS2020_TrainingData/input_data_3channels/images/image_' + str(img) + '.npy', temp_combined_images)\n",
    "\t\tnp.save(r'BraTS2020_TrainingData/input_data_3channels/masks/mask_' + str(img) + '.npy', temp_mask)\n",
    "\telse:\n",
    "\t\tprint(\"something went wrong\")"
   ]
  },
  {
   "cell_type": "code",
   "execution_count": null,
   "metadata": {},
   "outputs": [],
   "source": [
    "import splitfolders\n",
    "\n",
    "input_folder = r'BraTS2020_TrainingData/input_data_3channels'\n",
    "output_folder = r'BraTS2020_TrainingData/input_data_128'\n",
    "splitfolders.ratio(input_folder, output=output_folder, seed=42, ratio=(.75, .25), group_prefix=None)"
   ]
  },
  {
   "cell_type": "code",
   "execution_count": null,
   "metadata": {},
   "outputs": [],
   "source": [
    "#END"
   ]
  }
 ],
 "metadata": {
  "language_info": {
   "name": "python"
  },
  "orig_nbformat": 4
 },
 "nbformat": 4,
 "nbformat_minor": 2
}
